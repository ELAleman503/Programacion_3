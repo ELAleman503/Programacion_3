{
  "nbformat": 4,
  "nbformat_minor": 0,
  "metadata": {
    "colab": {
      "name": "Tarea programacion de conversores.ipynb",
      "provenance": [],
      "include_colab_link": true
    },
    "kernelspec": {
      "name": "python3",
      "display_name": "Python 3"
    },
    "language_info": {
      "name": "python"
    }
  },
  "cells": [
    {
      "cell_type": "markdown",
      "metadata": {
        "id": "view-in-github",
        "colab_type": "text"
      },
      "source": [
        "<a href=\"https://colab.research.google.com/github/ELAleman503/Programacion_3/blob/main/Tarea_programacion_de_conversores.ipynb\" target=\"_parent\"><img src=\"https://colab.research.google.com/assets/colab-badge.svg\" alt=\"Open In Colab\"/></a>"
      ]
    },
    {
      "cell_type": "markdown",
      "metadata": {
        "id": "x6OZqFpu7Tfe"
      },
      "source": [
        "**EJERCICIO 1:** CONVERSOR DE KILOMETROS A METROS"
      ]
    },
    {
      "cell_type": "code",
      "metadata": {
        "id": "AHB3meNl7DiC"
      },
      "source": [
        "#importando las librerias\n",
        "import tensorflow as tf\n",
        "import pandas as pd\n",
        "import matplotlib.pyplot as plt\n",
        "\n",
        "#leer los datos de entrenamiento\n",
        "longitudes = pd.read_csv(\"/content/DatosParalalA1.csv\", sep=\";\")\n",
        "#print(longitudes)"
      ],
      "execution_count": null,
      "outputs": []
    },
    {
      "cell_type": "code",
      "metadata": {
        "id": "LzADs5In7NS2"
      },
      "source": [
        "#separar los datos de entrada y salida\n",
        "kilometro = longitudes[\"kilometro\"]\n",
        "metro = longitudes[\"metro\"]"
      ],
      "execution_count": null,
      "outputs": []
    },
    {
      "cell_type": "code",
      "metadata": {
        "id": "zoLYPvrk7dLt"
      },
      "source": [
        "#separar los datos de entrada y salida\n",
        "kilometro = longitudes[\"kilometro\"]\n",
        "metro = longitudes[\"metro\"]\n"
      ],
      "execution_count": null,
      "outputs": []
    },
    {
      "cell_type": "code",
      "metadata": {
        "id": "qv_T1rl27gcV"
      },
      "source": [
        "#creando el modelo de entrenamiento\n",
        "modelo = tf.keras.Sequential()\n",
        "modelo.add(tf.keras.layers.Dense(units=1, input_shape=[1]))"
      ],
      "execution_count": null,
      "outputs": []
    },
    {
      "cell_type": "code",
      "metadata": {
        "id": "i_UeA8Ie7i24"
      },
      "source": [
        "#compilar el modelo de entrenamiento\n",
        "modelo.compile(optimizer=tf.keras.optimizers.Adam(1),loss='mean_squared_error')\n"
      ],
      "execution_count": null,
      "outputs": []
    },
    {
      "cell_type": "code",
      "metadata": {
        "id": "nypf0WXN7kvN"
      },
      "source": [
        "#entrenar el modelo de aprendizaje\n",
        "historial = modelo.fit(kilometro, metro, epochs=950, verbose=0)\n"
      ],
      "execution_count": null,
      "outputs": []
    },
    {
      "cell_type": "code",
      "metadata": {
        "colab": {
          "base_uri": "https://localhost:8080/"
        },
        "id": "hH5shzIx7px1",
        "outputId": "269ff95c-d5f3-4494-9140-58774350a4f2"
      },
      "source": [
        "m = modelo.predict([13])\n",
        "print(m)"
      ],
      "execution_count": null,
      "outputs": [
        {
          "output_type": "stream",
          "name": "stdout",
          "text": [
            "[[13000.]]\n"
          ]
        }
      ]
    },
    {
      "cell_type": "markdown",
      "metadata": {
        "id": "ueiZoxXK8Eio"
      },
      "source": [
        "**EJERCICIO 2:** CONVERSOR DE KILOGRAMOS A LIBRAS\n"
      ]
    },
    {
      "cell_type": "code",
      "metadata": {
        "id": "YeWuukyI741d"
      },
      "source": [
        "#leer los datos de entrenamiento\n",
        "masa = pd.read_csv(\"/content/DatosParalalA.csv\", sep=\";\")\n",
        "#print(masa)"
      ],
      "execution_count": null,
      "outputs": []
    },
    {
      "cell_type": "code",
      "metadata": {
        "id": "nlmszup88NS9"
      },
      "source": [
        "#separar los datos de entrada y salida\n",
        "kg = masa[\"kilogramo\"]\n",
        "lb = masa[\"libra\"]"
      ],
      "execution_count": null,
      "outputs": []
    },
    {
      "cell_type": "code",
      "metadata": {
        "id": "7N3EPANT8QOW"
      },
      "source": [
        "#creando el modelo de entrenamiento\n",
        "modelo = tf.keras.Sequential()\n",
        "modelo.add(tf.keras.layers.Dense(units=1, input_shape=[1]))"
      ],
      "execution_count": null,
      "outputs": []
    },
    {
      "cell_type": "code",
      "metadata": {
        "id": "dk6LFFqA8Tak"
      },
      "source": [
        "#compilar el modelo de entrenamiento\n",
        "modelo.compile(optimizer=tf.keras.optimizers.Adam(1),loss='mean_squared_error')"
      ],
      "execution_count": null,
      "outputs": []
    },
    {
      "cell_type": "code",
      "metadata": {
        "id": "MAck9iCuYjmH"
      },
      "source": [
        "#entrenar el modelo de aprendizaje\n",
        "historial = modelo.fit(kg, lb, epochs=800, verbose=0)"
      ],
      "execution_count": null,
      "outputs": []
    },
    {
      "cell_type": "code",
      "metadata": {
        "colab": {
          "base_uri": "https://localhost:8080/"
        },
        "id": "MyUk_a-r8UhN",
        "outputId": "a076ba12-266d-4f3f-e9de-d073207872de"
      },
      "source": [
        "l = modelo.predict([20])\n",
        "print(l)"
      ],
      "execution_count": null,
      "outputs": [
        {
          "output_type": "stream",
          "name": "stdout",
          "text": [
            "[[44.057552]]\n"
          ]
        }
      ]
    },
    {
      "cell_type": "markdown",
      "metadata": {
        "id": "drjK2mpG9G3d"
      },
      "source": [
        "**EJERCICIO 3:** CONVERSOR DE GYGABYTE A MEGABYTE"
      ]
    },
    {
      "cell_type": "code",
      "metadata": {
        "id": "4TATSANrOB-u"
      },
      "source": [
        "#leer los datos de entrenamiento\n",
        "almacenamiento = pd.read_csv(\"/content/DatosParalalA.csv\", sep=\";\")\n",
        "#print(almacenamiento)"
      ],
      "execution_count": null,
      "outputs": []
    },
    {
      "cell_type": "code",
      "metadata": {
        "id": "nKzNiJbJ9r9V"
      },
      "source": [
        "#separar los datos de entrada y salida\n",
        "gigabyte = almacenamiento[\"gigabyte\"]\n",
        "megabyte = almacenamiento[\"megabyte\"]"
      ],
      "execution_count": null,
      "outputs": []
    },
    {
      "cell_type": "code",
      "metadata": {
        "id": "wIWMYwbV9t8c"
      },
      "source": [
        "#creando el modelo de entrenamiento\n",
        "modelo = tf.keras.Sequential()\n",
        "modelo.add(tf.keras.layers.Dense(units=1, input_shape=[1]))"
      ],
      "execution_count": null,
      "outputs": []
    },
    {
      "cell_type": "code",
      "metadata": {
        "id": "QmB1Sig09xJO"
      },
      "source": [
        "#compilar el modelo de entrenamiento\n",
        "modelo.compile(optimizer=tf.keras.optimizers.Adam(1),loss='mean_squared_error')"
      ],
      "execution_count": null,
      "outputs": []
    },
    {
      "cell_type": "code",
      "metadata": {
        "id": "DB17s3-K9z8s"
      },
      "source": [
        "#entrenar el modelo de aprendizaje\n",
        "historial = modelo.fit(gigabyte, megabyte, epochs=750, verbose=0)"
      ],
      "execution_count": null,
      "outputs": []
    },
    {
      "cell_type": "code",
      "metadata": {
        "colab": {
          "base_uri": "https://localhost:8080/"
        },
        "id": "GCj1FYLF92Ok",
        "outputId": "7a0ecf6d-3c7e-4da8-8913-bd1c37be7429"
      },
      "source": [
        "m = modelo.predict([30])\n",
        "print(m)"
      ],
      "execution_count": null,
      "outputs": [
        {
          "output_type": "stream",
          "name": "stdout",
          "text": [
            "[[66.106834]]\n"
          ]
        }
      ]
    },
    {
      "cell_type": "markdown",
      "metadata": {
        "id": "5cEzE8-q-Qrg"
      },
      "source": [
        "**EJERCICIO 4:** CONVERSOR DE HORAS A MINUTOS"
      ]
    },
    {
      "cell_type": "code",
      "metadata": {
        "id": "kSzclZYJ-Hkm"
      },
      "source": [
        "#leer los datos de entrenamiento\n",
        "Tiempo = pd.read_csv(\"/content/DatosParalalA.csv\", sep=\";\")\n",
        "#print(Tiempo)"
      ],
      "execution_count": null,
      "outputs": []
    },
    {
      "cell_type": "code",
      "metadata": {
        "id": "G3yp1SaH_SLo"
      },
      "source": [
        "#separar los datos de entrada y salida\n",
        "hora = Tiempo[\"hora\"]\n",
        "minuto = Tiempo[\"minuto\"]"
      ],
      "execution_count": null,
      "outputs": []
    },
    {
      "cell_type": "code",
      "metadata": {
        "id": "10A3dfiw_VZc"
      },
      "source": [
        "#creando el modelo de entrenamiento\n",
        "modelo = tf.keras.Sequential()\n",
        "modelo.add(tf.keras.layers.Dense(units=1, input_shape=[1]))"
      ],
      "execution_count": null,
      "outputs": []
    },
    {
      "cell_type": "code",
      "metadata": {
        "id": "i1Tu4-d6_YPL"
      },
      "source": [
        "#compilar el modelo de entrenamiento\n",
        "modelo.compile(optimizer=tf.keras.optimizers.Adam(1),loss='mean_squared_error')"
      ],
      "execution_count": null,
      "outputs": []
    },
    {
      "cell_type": "code",
      "metadata": {
        "id": "1wChrn-g_ZOp"
      },
      "source": [
        "#entrenar el modelo de aprendizaje\n",
        "historial = modelo.fit(hora, minuto, epochs=800, verbose=0)"
      ],
      "execution_count": null,
      "outputs": []
    },
    {
      "cell_type": "code",
      "metadata": {
        "colab": {
          "base_uri": "https://localhost:8080/"
        },
        "id": "4Mz9x9cN_bKr",
        "outputId": "57504873-6885-43fa-900d-5dd8aa5be6f5"
      },
      "source": [
        "minutos = modelo.predict([40])\n",
        "print(minutos)"
      ],
      "execution_count": null,
      "outputs": [
        {
          "output_type": "stream",
          "name": "stdout",
          "text": [
            "[[2400.0002]]\n"
          ]
        }
      ]
    },
    {
      "cell_type": "markdown",
      "metadata": {
        "id": "i8O1NX5S_n6c"
      },
      "source": [
        "**EJERCICIO 5:** CONVERSOR DE KILOMETROS CUADRADOS A MILLAS CUADRADAS"
      ]
    },
    {
      "cell_type": "code",
      "metadata": {
        "id": "a5HVwDGi_c6M"
      },
      "source": [
        "#leer los datos de entrenamiento\n",
        "area = pd.read_csv(\"/content/DatosParalalA.csv\", sep=\";\")\n",
        "#print(area)"
      ],
      "execution_count": null,
      "outputs": []
    },
    {
      "cell_type": "code",
      "metadata": {
        "id": "NadnfeHmAzTD"
      },
      "source": [
        "#separar los datos de entrada y salida\n",
        "k = area[\"kilometro cuadrado\"]\n",
        "m = area[\"milla cuadrada\"]"
      ],
      "execution_count": null,
      "outputs": []
    },
    {
      "cell_type": "code",
      "metadata": {
        "id": "guOV5u92A1JS"
      },
      "source": [
        "#creando el modelo de entrenamiento\n",
        "modelo = tf.keras.Sequential()\n",
        "modelo.add(tf.keras.layers.Dense(units=1, input_shape=[1]))"
      ],
      "execution_count": null,
      "outputs": []
    },
    {
      "cell_type": "code",
      "metadata": {
        "id": "j1_RZbsDA330"
      },
      "source": [
        "#compilar el modelo de entrenamiento\n",
        "modelo.compile(optimizer=tf.keras.optimizers.Adam(1),loss='mean_squared_error')"
      ],
      "execution_count": null,
      "outputs": []
    },
    {
      "cell_type": "code",
      "metadata": {
        "id": "-gJr4ekaA5xA"
      },
      "source": [
        "#entrenar el modelo de aprendizaje\n",
        "historial = modelo.fit(k, m, epochs=800, verbose=0)"
      ],
      "execution_count": null,
      "outputs": []
    },
    {
      "cell_type": "code",
      "metadata": {
        "colab": {
          "base_uri": "https://localhost:8080/"
        },
        "id": "Spp3wGvpA79r",
        "outputId": "24ce5b2b-c069-4369-8171-53ce43c09836"
      },
      "source": [
        "mc = modelo.predict([200])\n",
        "print(mc)"
      ],
      "execution_count": null,
      "outputs": [
        {
          "output_type": "stream",
          "name": "stdout",
          "text": [
            "[[77.21003]]\n"
          ]
        }
      ]
    },
    {
      "cell_type": "markdown",
      "metadata": {
        "id": "2TRSHvXVBcpe"
      },
      "source": [
        "**EJERICICIO 6:** Tabla de meses acumulados a n meses"
      ]
    },
    {
      "cell_type": "code",
      "metadata": {
        "id": "2TPUzMGyBbsT"
      },
      "source": [
        "import seaborn as sns\n",
        "acumulados = pd.read_csv(\"/content/dataset_acumulado2.csv\", sep=\";\")\n",
        "#print(acumulados)\n",
        "#sns.scatterplot(acumulados[\"meses\"], acumulados[\"acumulado\"])\n",
        "#plt.show()"
      ],
      "execution_count": null,
      "outputs": []
    },
    {
      "cell_type": "code",
      "metadata": {
        "id": "JTk8ThefCG7E"
      },
      "source": [
        "m = acumulados[\"meses\"]\n",
        "a = acumulados[\"acumulado\"]"
      ],
      "execution_count": null,
      "outputs": []
    },
    {
      "cell_type": "code",
      "metadata": {
        "id": "L3PtxhmFCMuK"
      },
      "source": [
        "modelo = tf.keras.Sequential()\n",
        "modelo.add(tf.keras.layers.Dense(units=1, input_shape=[1]))"
      ],
      "execution_count": null,
      "outputs": []
    },
    {
      "cell_type": "code",
      "metadata": {
        "id": "AnlZ7znjCOxG"
      },
      "source": [
        "modelo.compile(optimizer=tf.keras.optimizers.Adam(1),loss='mean_squared_error')"
      ],
      "execution_count": null,
      "outputs": []
    },
    {
      "cell_type": "code",
      "metadata": {
        "id": "3zX69rRNCQji"
      },
      "source": [
        "acumulacion = modelo.fit(m,a, epochs=400, verbose=0)"
      ],
      "execution_count": null,
      "outputs": []
    },
    {
      "cell_type": "code",
      "metadata": {
        "colab": {
          "base_uri": "https://localhost:8080/"
        },
        "id": "HDo_QE-KCSmK",
        "outputId": "4c949db9-9d4f-46a1-ce28-963ba4d2f947"
      },
      "source": [
        "mesesacumulados = modelo.predict([10])\n",
        "print(mesesacumulados)"
      ],
      "execution_count": null,
      "outputs": [
        {
          "output_type": "stream",
          "name": "stdout",
          "text": [
            "[[70.51732]]\n"
          ]
        }
      ]
    }
  ]
}